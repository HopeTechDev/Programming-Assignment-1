{
 "cells": [
  {
   "cell_type": "markdown",
   "id": "dea26d2f-b0d2-4491-adef-5d6174752ccc",
   "metadata": {},
   "source": [
    "#### SAEZ, Eljenzal Hoper U."
   ]
  },
  {
   "cell_type": "markdown",
   "id": "6e66cf9a-460f-4b7e-b15c-025e78f81870",
   "metadata": {},
   "source": [
    "## *Alphabet Soup Problem*"
   ]
  },
  {
   "cell_type": "markdown",
   "id": "d21d5f47-ef79-4879-bf40-0fbdd70b5be8",
   "metadata": {},
   "source": [
    "##### A function that arranges letters of a word in alphabetical order"
   ]
  },
  {
   "cell_type": "code",
   "execution_count": 9,
   "id": "9a1b07e9-4cc8-482e-84a5-cd5bd0fd7f22",
   "metadata": {},
   "outputs": [],
   "source": [
    "\n",
    "def alphabet_soup(word): # define the function\n",
    "    result = ''.join(sorted(word)) # this sorts the letters of word alphabetically, joins them back together, and saves the result\n",
    "    return result\n"
   ]
  },
  {
   "cell_type": "markdown",
   "id": "8f3bb612-dff6-43da-be27-0f7c0200ada2",
   "metadata": {},
   "source": [
    "*testing the code:*"
   ]
  },
  {
   "cell_type": "code",
   "execution_count": 12,
   "id": "5150c7be-77e3-4350-924a-93e48980aad5",
   "metadata": {},
   "outputs": [
    {
     "name": "stdout",
     "output_type": "stream",
     "text": [
      "ehllo\n"
     ]
    }
   ],
   "source": [
    "print(alphabet_soup(\"hello\"))"
   ]
  },
  {
   "cell_type": "code",
   "execution_count": 13,
   "id": "d487bcf9-76c8-4426-8edf-02f646d53c9f",
   "metadata": {},
   "outputs": [
    {
     "name": "stdout",
     "output_type": "stream",
     "text": [
      "acehkr\n"
     ]
    }
   ],
   "source": [
    "print(alphabet_soup(\"hacker\"))"
   ]
  },
  {
   "cell_type": "code",
   "execution_count": 14,
   "id": "33e522b1-e325-4f11-b868-fd96bc9fa95d",
   "metadata": {},
   "outputs": [
    {
     "name": "stdout",
     "output_type": "stream",
     "text": [
      "AEEJLLNZ\n"
     ]
    }
   ],
   "source": [
    "print(alphabet_soup(\"ELJENZAL\"))"
   ]
  },
  {
   "cell_type": "markdown",
   "id": "99d7960f-63e0-445f-9d3e-8ebeed221eac",
   "metadata": {},
   "source": [
    "## *Emoticon Problem*"
   ]
  },
  {
   "cell_type": "markdown",
   "id": "6a4fa60b-1208-4365-8d18-37543f22f77f",
   "metadata": {},
   "source": [
    "##### A function that changes specific words into emoticons."
   ]
  },
  {
   "cell_type": "code",
   "execution_count": 23,
   "id": "103440de-41c7-4d94-951d-c9dc7eb0a902",
   "metadata": {},
   "outputs": [],
   "source": [
    "\n",
    "def emotify(sentence):  # define the function\n",
    "    \n",
    "    emoticons = {  # this serves as the dictionary of my code to map words into emoticons\n",
    "        'smile': ':)',\n",
    "        'grin': ':D',\n",
    "        'sad': ':(((',\n",
    "        'mad': '>:(('\n",
    "    }\n",
    "    \n",
    "    for word, emoticon in emoticons.items():  # go through each word in our dictionary\n",
    "        sentence = sentence.replace(word, emoticon)   # replaces word with its corresponding emoticon\n",
    "    \n",
    "    return sentence"
   ]
  },
  {
   "cell_type": "markdown",
   "id": "fd7f4866-f31b-486b-9608-2f98343a5810",
   "metadata": {},
   "source": [
    "*testing the code:*"
   ]
  },
  {
   "cell_type": "code",
   "execution_count": 16,
   "id": "bffc4371-91e2-4bfe-8e01-9e31904c82a8",
   "metadata": {},
   "outputs": [
    {
     "name": "stdout",
     "output_type": "stream",
     "text": [
      "Make me :)\n"
     ]
    }
   ],
   "source": [
    "print(emotify(\"Make me smile\"))"
   ]
  },
  {
   "cell_type": "code",
   "execution_count": 17,
   "id": "17bef186-4b19-46ca-9cd8-22076848318a",
   "metadata": {},
   "outputs": [
    {
     "name": "stdout",
     "output_type": "stream",
     "text": [
      "I'm >:((\n"
     ]
    }
   ],
   "source": [
    "print(emotify(\"I'm mad\")) "
   ]
  },
  {
   "cell_type": "code",
   "execution_count": 18,
   "id": "a457dcb2-11fd-44a1-b09d-ab177801d205",
   "metadata": {},
   "outputs": [
    {
     "name": "stdout",
     "output_type": "stream",
     "text": [
      "I am feeling very :(((\n"
     ]
    }
   ],
   "source": [
    "print(emotify(\"I am feeling very sad\"))"
   ]
  },
  {
   "cell_type": "code",
   "execution_count": 19,
   "id": "1260903f-640d-44f0-b69b-879b0ae5f0d2",
   "metadata": {},
   "outputs": [
    {
     "name": "stdout",
     "output_type": "stream",
     "text": [
      "I love to :D\n"
     ]
    }
   ],
   "source": [
    "print(emotify(\"I love to grin\"))"
   ]
  },
  {
   "cell_type": "markdown",
   "id": "b011ef21-8dd8-4bfe-9a09-78f55baace7e",
   "metadata": {},
   "source": [
    "## *Unpacking List Problem*"
   ]
  },
  {
   "cell_type": "markdown",
   "id": "6a524d65-1e0e-4d66-b3c3-d46cfb8abc26",
   "metadata": {},
   "source": [
    "##### Unpacks the list into three variables — first for the first element, middle for all elements in between, and last for the last element—then print them."
   ]
  },
  {
   "cell_type": "code",
   "execution_count": 25,
   "id": "434922f7-ef03-4ac5-be1a-d9e4f4f015b5",
   "metadata": {},
   "outputs": [
    {
     "name": "stdout",
     "output_type": "stream",
     "text": [
      "First: 1\n",
      "Middle: [2, 3, 4, 5]\n",
      "Last: 6\n"
     ]
    }
   ],
   "source": [
    "writeyourcodehere = [1,2,3,4,5,6] # set writeyourcodehere variable's list elements to 1,2,3,4,5,6\n",
    "\n",
    "first, *middle, last = writeyourcodehere # set the unpacking syntax\n",
    "\n",
    "#testing the code\n",
    "print(\"First:\", first) # print the first element\n",
    "print(\"Middle:\", middle) # print the middle element/s\n",
    "print(\"Last:\", last) # print the last element"
   ]
  },
  {
   "cell_type": "code",
   "execution_count": null,
   "id": "04fc4d5d-dc2a-422e-bfc3-a3ac4be003f2",
   "metadata": {},
   "outputs": [],
   "source": []
  }
 ],
 "metadata": {
  "kernelspec": {
   "display_name": "Python 3 (ipykernel)",
   "language": "python",
   "name": "python3"
  },
  "language_info": {
   "codemirror_mode": {
    "name": "ipython",
    "version": 3
   },
   "file_extension": ".py",
   "mimetype": "text/x-python",
   "name": "python",
   "nbconvert_exporter": "python",
   "pygments_lexer": "ipython3",
   "version": "3.12.4"
  }
 },
 "nbformat": 4,
 "nbformat_minor": 5
}
